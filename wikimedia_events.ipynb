{
 "cells": [
  {
   "cell_type": "code",
   "execution_count": 59,
   "id": "e9bdb581-12f2-4cdc-a8e6-1142df1d032c",
   "metadata": {},
   "outputs": [],
   "source": [
    "from pyspark.sql import SparkSession\n",
    "from pyspark.sql.functions import col, from_json, expr, when\n",
    "from pyspark.sql.types import StructType, StructField, StringType, IntegerType, BooleanType\n",
    "import pyspark.sql.functions as F"
   ]
  },
  {
   "cell_type": "code",
   "execution_count": 60,
   "id": "1f3ad62c-b798-4cd9-970e-04cf253b77a8",
   "metadata": {},
   "outputs": [],
   "source": [
    "TOPIC = 'wikimedia_events'\n",
    "BOOTSTRAP_SERVERS = 'confluent-local-broker-1:51383'"
   ]
  },
  {
   "cell_type": "code",
   "execution_count": 61,
   "id": "beb4c131-be50-4f36-ab7a-b9f3895b4b4a",
   "metadata": {},
   "outputs": [],
   "source": [
    "spark = SparkSession.builder.appName(\"Wikimedia Kafka Consumer\").getOrCreate()"
   ]
  },
  {
   "cell_type": "code",
   "execution_count": 62,
   "id": "0085ca8b-6a3e-46a1-bd1e-026394e6abb2",
   "metadata": {},
   "outputs": [],
   "source": [
    "def console_output(df):\n",
    "    query = df.writeStream.outputMode('complete').format('console').start()"
   ]
  },
  {
   "cell_type": "code",
   "execution_count": 63,
   "id": "ecd83bfe-1dd9-4d3b-9a8a-1b591795aaa5",
   "metadata": {},
   "outputs": [],
   "source": [
    "kafka_stream_df = (\n",
    "    spark.readStream\n",
    "    .format('kafka')\n",
    "    .option('kafka.bootstrap.servers', BOOTSTRAP_SERVERS)\n",
    "    .option('subscribe', TOPIC)\n",
    "    .load()\n",
    ")"
   ]
  },
  {
   "cell_type": "code",
   "execution_count": 64,
   "id": "35f77cb7-530f-45a3-bb8d-6d80c80bfaa5",
   "metadata": {},
   "outputs": [],
   "source": [
    "schema = StructType([\n",
    "    StructField('timestamp', IntegerType()),\n",
    "    StructField('bot', BooleanType()),\n",
    "    StructField('minor', BooleanType()),\n",
    "    StructField('user', StringType()),\n",
    "    StructField('meta', StructType([\n",
    "        StructField('domain', StringType())\n",
    "    ])),\n",
    "    StructField('length', StructType([\n",
    "        StructField('old', IntegerType()),\n",
    "        StructField('new', IntegerType())\n",
    "    ]))\n",
    "])"
   ]
  },
  {
   "cell_type": "code",
   "execution_count": 65,
   "id": "b73b700f-ac6e-40ff-9434-41d3e67dae18",
   "metadata": {},
   "outputs": [],
   "source": [
    "df = kafka_stream_df.select(F.col('value').cast('string'))\n",
    "df = df.select(F.from_json(df.value, schema).alias('data'))\n",
    "df = df.select(\n",
    "    'data.timestamp',\n",
    "    'data.bot',\n",
    "    'data.minor',\n",
    "    'data.user',\n",
    "    'data.meta.domain',\n",
    "    F.col('data.length.old').alias('old_length'),\n",
    "    F.col('data.length.new').alias('new_length')\n",
    ")\n",
    "df = df.withColumn('length_diff', F.col('new_length') - F.col('old_length'))\n",
    "df = df.withColumn('length_diff_percent', F.col('length_diff') / F.col('old_length') * 100)"
   ]
  },
  {
   "cell_type": "code",
   "execution_count": 66,
   "id": "b5655f37-184e-43ac-a22f-1bdad7e514b9",
   "metadata": {},
   "outputs": [],
   "source": [
    "top_5_domains = df.groupBy('domain').count().orderBy(F.desc('count')).limit(5)\n",
    "console_output(top_5_domains)"
   ]
  },
  {
   "cell_type": "code",
   "execution_count": 67,
   "id": "1910cb9d-f633-4540-8287-b01e2e534e91",
   "metadata": {},
   "outputs": [],
   "source": [
    "top_5_users = df.groupBy('user').agg(F.sum('length_diff').alias('length_diff_sum')).orderBy(F.desc('length_diff_sum')).limit(5)\n",
    "console_output(top_5_users)"
   ]
  },
  {
   "cell_type": "code",
   "execution_count": 68,
   "id": "1569f4ab-4529-4bab-b002-33fc15243149",
   "metadata": {},
   "outputs": [],
   "source": [
    "summary = df.agg(\n",
    "    F.count('timestamp').alias('total_count'),\n",
    "    (F.count_if(F.col('bot') == True) / F.count('bot')).alias('bot_percent'),\n",
    "    F.mean('length_diff').alias('average_length_diff'),\n",
    "    F.min('length_diff').alias('min_length_diff'),\n",
    "    F.max('length_diff').alias('max_length_diff')\n",
    ")\n",
    "console_output(summary)"
   ]
  },
  {
   "cell_type": "code",
   "execution_count": 69,
   "id": "384dc225-6926-4053-ad95-237eb92a6c7e",
   "metadata": {},
   "outputs": [
    {
     "data": {
      "text/plain": [
       "<pyspark.sql.streaming.query.StreamingQuery at 0x7fe617824510>"
      ]
     },
     "execution_count": 69,
     "metadata": {},
     "output_type": "execute_result"
    }
   ],
   "source": [
    "(\n",
    "    df.writeStream\n",
    "    .outputMode('append')\n",
    "    .option('checkpointLocation', 'output')\n",
    "    .format('csv')\n",
    "    .option('path', 'output/wikimedia_events.csv')\n",
    "    .option('header', True)\n",
    "    .trigger(processingTime='10 seconds')\n",
    "    .start()\n",
    ")"
   ]
  }
 ],
 "metadata": {
  "kernelspec": {
   "display_name": "Python 3 (ipykernel)",
   "language": "python",
   "name": "python3"
  },
  "language_info": {
   "codemirror_mode": {
    "name": "ipython",
    "version": 3
   },
   "file_extension": ".py",
   "mimetype": "text/x-python",
   "name": "python",
   "nbconvert_exporter": "python",
   "pygments_lexer": "ipython3",
   "version": "3.11.6"
  }
 },
 "nbformat": 4,
 "nbformat_minor": 5
}
